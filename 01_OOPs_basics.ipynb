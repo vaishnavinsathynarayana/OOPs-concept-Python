{
 "cells": [
  {
   "cell_type": "markdown",
   "id": "ae807f43-7090-4b4b-9353-c2cb7f113f0a",
   "metadata": {},
   "source": [
    "# OBJECT ORIENTED PROGRAMMING"
   ]
  },
  {
   "cell_type": "markdown",
   "id": "52849d9f-da2a-4e38-9145-046861508e02",
   "metadata": {},
   "source": [
    "1. An object -oriented paradigm is to design the program using classes and objects\n",
    "2. Objects are related to real world entities such as books, houses etc\n",
    "3. This concept focuses on writing the reusable code\n",
    "   "
   ]
  },
  {
   "cell_type": "markdown",
   "id": "ae0f6eec-1500-481c-8242-ab570148711b",
   "metadata": {},
   "source": [
    "### CLASS\n",
    "\n",
    "1. Class is a collection of objects\n",
    "2. Class is a logical entity that has some specific attributes and methods\n"
   ]
  },
  {
   "cell_type": "markdown",
   "id": "6f8a6a02-decc-459b-b315-0a635492503b",
   "metadata": {},
   "source": [
    "   Syntax:\n",
    "   \n",
    "   class NameOfTheClass:\n",
    "       def __init__(self,param1, param2):\n",
    "           self param1= param1\n",
    "           self param2 = param2\n",
    "       def some_method(self):\n",
    "           # perform some action\n",
    "           print(self.param1)"
   ]
  },
  {
   "cell_type": "markdown",
   "id": "7fee94f2-58c7-43cc-97df-a026b8a82444",
   "metadata": {},
   "source": [
    "## OBJECT\n",
    "\n",
    "1. The object is an entity that has state and behaviour\n",
    "2. An object is an instantation of a class\n",
    "3. When class is defined only the description for the object is defined. No storage or memory is allocated\n",
    "4. Object has two characters: attributes and behaviour "
   ]
  },
  {
   "cell_type": "code",
   "execution_count": 2,
   "id": "2121c629-2799-4f0d-8426-5f225524fa78",
   "metadata": {},
   "outputs": [],
   "source": [
    "#create sample class\n",
    "class SampleWord():\n",
    "    pass"
   ]
  },
  {
   "cell_type": "code",
   "execution_count": 3,
   "id": "ebe19536-f5b0-4153-99b2-bf47d278abb8",
   "metadata": {},
   "outputs": [],
   "source": [
    "my_sample = SampleWord()"
   ]
  },
  {
   "cell_type": "code",
   "execution_count": 4,
   "id": "bfef581a-79ea-4a9b-84f5-d05f1436868f",
   "metadata": {},
   "outputs": [
    {
     "data": {
      "text/plain": [
       "__main__.SampleWord"
      ]
     },
     "execution_count": 4,
     "metadata": {},
     "output_type": "execute_result"
    }
   ],
   "source": [
    "type(my_sample)"
   ]
  },
  {
   "cell_type": "code",
   "execution_count": 14,
   "id": "bdb40363-76e2-4d13-ae84-4139eda51ca7",
   "metadata": {},
   "outputs": [],
   "source": [
    "class Dog():\n",
    "\n",
    "    def __init__(self, breed, name, spots):\n",
    "\n",
    "        #Atrributes\n",
    "        #we take attributes\n",
    "        #assign it using self.attribute_name\n",
    "        self.breed = breed  \n",
    "        self.name = name\n",
    "\n",
    "        #expect to be boolean\n",
    "        self.spots = spots"
   ]
  },
  {
   "cell_type": "code",
   "execution_count": 15,
   "id": "ec5057cb-1d58-4e69-998b-3d740997e637",
   "metadata": {},
   "outputs": [],
   "source": [
    "my_dog = Dog(breed = 'Lab', name = 'ginger', spots = False)"
   ]
  },
  {
   "cell_type": "code",
   "execution_count": 16,
   "id": "bac96743-0f2a-403d-85f4-c0c1d441eff7",
   "metadata": {},
   "outputs": [
    {
     "data": {
      "text/plain": [
       "'Lab'"
      ]
     },
     "execution_count": 16,
     "metadata": {},
     "output_type": "execute_result"
    }
   ],
   "source": [
    "my_dog.breed"
   ]
  },
  {
   "cell_type": "code",
   "execution_count": 17,
   "id": "653962f4-6c89-4c67-81fb-95ac916d72a3",
   "metadata": {},
   "outputs": [
    {
     "data": {
      "text/plain": [
       "'ginger'"
      ]
     },
     "execution_count": 17,
     "metadata": {},
     "output_type": "execute_result"
    }
   ],
   "source": [
    "my_dog.name"
   ]
  },
  {
   "cell_type": "code",
   "execution_count": 18,
   "id": "9c72cb05-0838-4450-b4bb-696eb3b8ddff",
   "metadata": {},
   "outputs": [
    {
     "data": {
      "text/plain": [
       "False"
      ]
     },
     "execution_count": 18,
     "metadata": {},
     "output_type": "execute_result"
    }
   ],
   "source": [
    "my_dog.spots"
   ]
  },
  {
   "cell_type": "code",
   "execution_count": null,
   "id": "36851b1b-d829-468c-9c20-e15e179b8558",
   "metadata": {},
   "outputs": [],
   "source": []
  }
 ],
 "metadata": {
  "kernelspec": {
   "display_name": "Python 3 (ipykernel)",
   "language": "python",
   "name": "python3"
  },
  "language_info": {
   "codemirror_mode": {
    "name": "ipython",
    "version": 3
   },
   "file_extension": ".py",
   "mimetype": "text/x-python",
   "name": "python",
   "nbconvert_exporter": "python",
   "pygments_lexer": "ipython3",
   "version": "3.11.7"
  }
 },
 "nbformat": 4,
 "nbformat_minor": 5
}
