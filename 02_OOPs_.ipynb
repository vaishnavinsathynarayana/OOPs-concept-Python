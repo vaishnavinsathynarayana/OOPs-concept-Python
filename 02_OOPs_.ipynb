{
 "cells": [
  {
   "cell_type": "markdown",
   "id": "3fea9133-6991-490c-a769-ab90804fb470",
   "metadata": {},
   "source": [
    "## METHODS\n",
    "1. Method is a function associated with an object\n",
    "2. In Python, method is not unique to class instances\n",
    "3. Methods are functions inside the body of a class\n",
    "4. Methods are used to define the behaviour of objects"
   ]
  },
  {
   "cell_type": "markdown",
   "id": "edcd0726-03bd-485f-8cc7-8d9c1d042070",
   "metadata": {},
   "source": [
    "### CONSTRUCTORS"
   ]
  },
  {
   "cell_type": "markdown",
   "id": "f0218f5a-f7a5-4e73-8d7e-0e83865f50ed",
   "metadata": {},
   "source": [
    "1. They are generally used to instantiating an object\n",
    "2. They initialize the data numbers attributes of the class when an object is created\n",
    "3. __init__ method is a constructor, always called when an object is created"
   ]
  },
  {
   "cell_type": "code",
   "execution_count": 13,
   "id": "c34033c0-6e88-48eb-8a50-13f9350cc24a",
   "metadata": {},
   "outputs": [],
   "source": [
    "class Dog():\n",
    "\n",
    "    species = \"mammal\"\n",
    "    \n",
    "    def __init__(self, breed, name, spots):\n",
    "\n",
    "        #Atrributes\n",
    "        #we take attributes\n",
    "        #assign it using self.attribute_name\n",
    "        self.breed = breed  \n",
    "        self.name = name\n",
    "\n",
    "        #expect to be boolean\n",
    "        self.spots = spots\n",
    "\n",
    "    # OPERATIONS/ACTIONS --> method\n",
    "    def bark(self):\n",
    "            print(\"WOOF\")"
   ]
  },
  {
   "cell_type": "code",
   "execution_count": 14,
   "id": "07ab0ce6-9acc-4407-8045-f1c389d4b901",
   "metadata": {},
   "outputs": [],
   "source": [
    "my_dog = Dog('Lab','ginger', False)"
   ]
  },
  {
   "cell_type": "code",
   "execution_count": 15,
   "id": "02c2aca1-21a0-4281-bcfb-e403745a55a5",
   "metadata": {},
   "outputs": [
    {
     "name": "stdout",
     "output_type": "stream",
     "text": [
      "WOOF\n"
     ]
    }
   ],
   "source": [
    "my_dog.bark()"
   ]
  },
  {
   "cell_type": "code",
   "execution_count": 20,
   "id": "4af3ad66-00e7-48f7-a808-78b088614ac9",
   "metadata": {},
   "outputs": [],
   "source": [
    "# circle\n",
    "\n",
    "class Circle():\n",
    "\n",
    "    #class object atrributes\n",
    "    pi = 3.14\n",
    "\n",
    "    def __init__(self,radius = 1):\n",
    "        self.radius = radius\n",
    "\n",
    "    #METHOD\n",
    "    def get_circumference(self):\n",
    "        return self.radius * self.pi * 2\n"
   ]
  },
  {
   "cell_type": "code",
   "execution_count": 24,
   "id": "ae075b3d-3015-4b41-8389-27b8f860ab96",
   "metadata": {},
   "outputs": [],
   "source": [
    "my_circle = Circle(30)"
   ]
  },
  {
   "cell_type": "code",
   "execution_count": 25,
   "id": "cba24f77-8803-44a2-8f30-2f2dbfac6f0e",
   "metadata": {},
   "outputs": [
    {
     "data": {
      "text/plain": [
       "3.14"
      ]
     },
     "execution_count": 25,
     "metadata": {},
     "output_type": "execute_result"
    }
   ],
   "source": [
    "my_circle.pi"
   ]
  },
  {
   "cell_type": "code",
   "execution_count": 26,
   "id": "eb2e6369-9b36-4da3-acc8-f8fb66970217",
   "metadata": {},
   "outputs": [
    {
     "data": {
      "text/plain": [
       "30"
      ]
     },
     "execution_count": 26,
     "metadata": {},
     "output_type": "execute_result"
    }
   ],
   "source": [
    "my_circle.radius"
   ]
  },
  {
   "cell_type": "code",
   "execution_count": 28,
   "id": "d9b48ca7-ee88-437b-b8a9-f06fc9c1698d",
   "metadata": {},
   "outputs": [
    {
     "data": {
      "text/plain": [
       "188.4"
      ]
     },
     "execution_count": 28,
     "metadata": {},
     "output_type": "execute_result"
    }
   ],
   "source": [
    "my_circle.get_circumference()"
   ]
  },
  {
   "cell_type": "code",
   "execution_count": 35,
   "id": "b7505adb-b338-4c76-9b19-13c7eebf2c4b",
   "metadata": {},
   "outputs": [],
   "source": [
    "# Simple example\n",
    "\n",
    "class Employee:\n",
    "\n",
    "    #attributes of an employee\n",
    "    def __init__(self, name, id):\n",
    "        self.name = name\n",
    "        self.id = id\n",
    "\n",
    "    # METHOD\n",
    "    def display(self):\n",
    "        print(\"The Employee details: Name = {}, ID = {}\".format(self.name, self.id))"
   ]
  },
  {
   "cell_type": "code",
   "execution_count": 36,
   "id": "7f349421-a531-4600-8f9f-0917ff5811ff",
   "metadata": {},
   "outputs": [],
   "source": [
    "EMP1 = Employee('Rose', '02')"
   ]
  },
  {
   "cell_type": "code",
   "execution_count": 37,
   "id": "1ed77e4e-a31d-46bc-9021-fb43b716d9f5",
   "metadata": {},
   "outputs": [
    {
     "data": {
      "text/plain": [
       "'Rose'"
      ]
     },
     "execution_count": 37,
     "metadata": {},
     "output_type": "execute_result"
    }
   ],
   "source": [
    "EMP1.name"
   ]
  },
  {
   "cell_type": "code",
   "execution_count": 38,
   "id": "bfbbfee0-08c1-4b6e-952b-1aa5bc324aa7",
   "metadata": {},
   "outputs": [
    {
     "data": {
      "text/plain": [
       "'02'"
      ]
     },
     "execution_count": 38,
     "metadata": {},
     "output_type": "execute_result"
    }
   ],
   "source": [
    "EMP1.id"
   ]
  },
  {
   "cell_type": "code",
   "execution_count": 39,
   "id": "49d8e5ff-27e7-4dc3-b252-97be0737b979",
   "metadata": {},
   "outputs": [
    {
     "name": "stdout",
     "output_type": "stream",
     "text": [
      "The Employee details: Name = Rose, ID = 02\n"
     ]
    }
   ],
   "source": [
    "EMP1.display()"
   ]
  },
  {
   "cell_type": "code",
   "execution_count": null,
   "id": "f7350a69-e4a6-4288-8b38-c8e3ac7589ca",
   "metadata": {},
   "outputs": [],
   "source": []
  }
 ],
 "metadata": {
  "kernelspec": {
   "display_name": "Python 3 (ipykernel)",
   "language": "python",
   "name": "python3"
  },
  "language_info": {
   "codemirror_mode": {
    "name": "ipython",
    "version": 3
   },
   "file_extension": ".py",
   "mimetype": "text/x-python",
   "name": "python",
   "nbconvert_exporter": "python",
   "pygments_lexer": "ipython3",
   "version": "3.11.7"
  }
 },
 "nbformat": 4,
 "nbformat_minor": 5
}
