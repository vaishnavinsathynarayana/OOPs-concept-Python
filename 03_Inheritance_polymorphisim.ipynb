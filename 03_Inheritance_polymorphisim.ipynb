{
 "cells": [
  {
   "cell_type": "markdown",
   "id": "cb008221-d4b0-406f-a671-499327067762",
   "metadata": {},
   "source": [
    "# INHERITANCE"
   ]
  },
  {
   "cell_type": "markdown",
   "id": "abc5a79e-88fd-47b6-a8ba-21b390e8adff",
   "metadata": {},
   "source": [
    "1. Inheritance is an important aspect of OOPs\n",
    "2. It provides reusability of the program because we can use an existing class to create a new class instead of craeting if from scratch\n",
    "3. In Inheritance, the child class acquires the properties and can access all data members and functions defined in the parent class\n",
    "4. A child class can also provide its specific implementation to the functions of the parent class"
   ]
  },
  {
   "cell_type": "markdown",
   "id": "82fa22bd-d8b5-4a19-a9c7-01ce625fea73",
   "metadata": {},
   "source": [
    "SYNTAX:\n",
    "\n",
    "class derived_class(base_class):\n",
    "    <class-suite>\n",
    "    \n",
    "#Multiple classes\n",
    "\n",
    "class derived_class(<base_class1>,<base_class2>..... <base_classn>):\n",
    "    <class-suite>"
   ]
  },
  {
   "cell_type": "code",
   "execution_count": 6,
   "id": "084bd5d5-2301-44b6-b7e9-34006edc1027",
   "metadata": {},
   "outputs": [],
   "source": [
    "#base class\n",
    "class Animal():\n",
    "\n",
    "    def __init__(self):\n",
    "        print(\"Animal created\")\n",
    "\n",
    "    def who_am_i(self):\n",
    "        print(\"I am an animal\")\n",
    "\n",
    "    def eat(self):\n",
    "        print(\"I am eating\")    "
   ]
  },
  {
   "cell_type": "code",
   "execution_count": 7,
   "id": "79932f29-c888-4db5-9f2d-b1ddc30783a2",
   "metadata": {},
   "outputs": [
    {
     "name": "stdout",
     "output_type": "stream",
     "text": [
      "Animal created\n"
     ]
    }
   ],
   "source": [
    "my_animal = Animal()"
   ]
  },
  {
   "cell_type": "code",
   "execution_count": 8,
   "id": "b81db80f-6d42-4181-916c-7b3973d1681d",
   "metadata": {},
   "outputs": [
    {
     "name": "stdout",
     "output_type": "stream",
     "text": [
      "I am eating\n"
     ]
    }
   ],
   "source": [
    "my_animal.eat()"
   ]
  },
  {
   "cell_type": "code",
   "execution_count": 9,
   "id": "79bc7485-0467-492e-b174-6af6fe554933",
   "metadata": {},
   "outputs": [
    {
     "name": "stdout",
     "output_type": "stream",
     "text": [
      "I am an animal\n"
     ]
    }
   ],
   "source": [
    "my_animal.who_am_i()"
   ]
  },
  {
   "cell_type": "code",
   "execution_count": 10,
   "id": "cd8fff68-cf3c-4517-b0d7-d15d94f51865",
   "metadata": {},
   "outputs": [],
   "source": [
    "#dervied class\n",
    "\n",
    "class Dog(Animal):\n",
    "\n",
    "    def __init__(self):\n",
    "        Animal.__init__(self)\n",
    "        print(\"Dog Created\")"
   ]
  },
  {
   "cell_type": "code",
   "execution_count": 11,
   "id": "9ba7b972-0548-47bc-979a-49a7b181f1d4",
   "metadata": {},
   "outputs": [
    {
     "name": "stdout",
     "output_type": "stream",
     "text": [
      "Animal created\n",
      "Dog Created\n"
     ]
    }
   ],
   "source": [
    "my_dog = Dog()"
   ]
  },
  {
   "cell_type": "code",
   "execution_count": 12,
   "id": "8e6757c8-6674-4439-89cd-9d19e2dd4426",
   "metadata": {},
   "outputs": [
    {
     "name": "stdout",
     "output_type": "stream",
     "text": [
      "I am eating\n"
     ]
    }
   ],
   "source": [
    "my_dog.eat()"
   ]
  },
  {
   "cell_type": "code",
   "execution_count": 13,
   "id": "6a441fc2-dc3a-457d-8a3a-066a55371979",
   "metadata": {},
   "outputs": [
    {
     "name": "stdout",
     "output_type": "stream",
     "text": [
      "I am an animal\n"
     ]
    }
   ],
   "source": [
    "my_dog.who_am_i()"
   ]
  },
  {
   "cell_type": "markdown",
   "id": "e6c5a6c1-d0b8-4525-b881-42f42c124167",
   "metadata": {},
   "source": [
    "# POLYMORPHISM"
   ]
  },
  {
   "cell_type": "markdown",
   "id": "2c8fe36d-7ef6-4831-90af-f2d59d5cf4a8",
   "metadata": {},
   "source": [
    "This refers to a way in which different object classes can be share the same method name and those methods can be called from the same place even though a variety of different objects might be passed on "
   ]
  },
  {
   "cell_type": "code",
   "execution_count": 20,
   "id": "feaa5486-5ed2-4cdb-a691-085738c36020",
   "metadata": {},
   "outputs": [],
   "source": [
    "class Dog():\n",
    "\n",
    "    def __init__(self, name):\n",
    "        self.name = name\n",
    "\n",
    "    def speak(self):\n",
    "        return self.name + \" says WOOF!\""
   ]
  },
  {
   "cell_type": "code",
   "execution_count": 21,
   "id": "ca6da887-daa8-47e3-9c2f-e02fee2e9c91",
   "metadata": {},
   "outputs": [],
   "source": [
    "class Cat():\n",
    "\n",
    "    def __init__(self, name):\n",
    "        self.name = name\n",
    "\n",
    "    def speak(self):\n",
    "        return self.name + \" says meow!\"\n"
   ]
  },
  {
   "cell_type": "code",
   "execution_count": 22,
   "id": "e89d339d-a034-4b02-bf15-adb18677ad3f",
   "metadata": {},
   "outputs": [],
   "source": [
    "niko = Dog('niko')\n",
    "bubble = Cat('bubble')"
   ]
  },
  {
   "cell_type": "code",
   "execution_count": 23,
   "id": "9f2df5a1-8bda-421f-b399-c6a8790ab096",
   "metadata": {},
   "outputs": [
    {
     "data": {
      "text/plain": [
       "'niko says WOOF!'"
      ]
     },
     "execution_count": 23,
     "metadata": {},
     "output_type": "execute_result"
    }
   ],
   "source": [
    "niko.speak()"
   ]
  },
  {
   "cell_type": "code",
   "execution_count": 24,
   "id": "0593184b-ac44-41b9-b575-4e71605f7b6e",
   "metadata": {},
   "outputs": [
    {
     "data": {
      "text/plain": [
       "'bubble says meow!'"
      ]
     },
     "execution_count": 24,
     "metadata": {},
     "output_type": "execute_result"
    }
   ],
   "source": [
    "bubble.speak()"
   ]
  },
  {
   "cell_type": "code",
   "execution_count": null,
   "id": "42056211-bc85-48bf-81f9-916bfbd193c2",
   "metadata": {},
   "outputs": [],
   "source": []
  }
 ],
 "metadata": {
  "kernelspec": {
   "display_name": "Python 3 (ipykernel)",
   "language": "python",
   "name": "python3"
  },
  "language_info": {
   "codemirror_mode": {
    "name": "ipython",
    "version": 3
   },
   "file_extension": ".py",
   "mimetype": "text/x-python",
   "name": "python",
   "nbconvert_exporter": "python",
   "pygments_lexer": "ipython3",
   "version": "3.11.7"
  }
 },
 "nbformat": 4,
 "nbformat_minor": 5
}
